{
 "cells": [
  {
   "cell_type": "code",
   "execution_count": 1,
   "id": "37b783f3",
   "metadata": {},
   "outputs": [],
   "source": [
    "import numpy as np\n",
    "import pandas as pd\n",
    "from scipy import stats\n",
    "import matplotlib.pyplot as plt\n",
    "import seaborn as sns"
   ]
  },
  {
   "cell_type": "code",
   "execution_count": 3,
   "id": "46607b45",
   "metadata": {},
   "outputs": [],
   "source": [
    "nt = 10_000"
   ]
  },
  {
   "cell_type": "code",
   "execution_count": 36,
   "id": "094ebaf7",
   "metadata": {},
   "outputs": [],
   "source": [
    "#1) cars follow poisson at noon\n",
    "mn = 2\n",
    "dist_cars = stats.poisson(2)\n"
   ]
  },
  {
   "cell_type": "code",
   "execution_count": 84,
   "id": "05e3a382",
   "metadata": {},
   "outputs": [
    {
     "data": {
      "text/plain": [
       "<BarContainer object of 12 artists>"
      ]
     },
     "execution_count": 84,
     "metadata": {},
     "output_type": "execute_result"
    },
    {
     "data": {
      "image/png": "[encoded data removed]",
      "text/plain": [
       "<Figure size 432x288 with 1 Axes>"
      ]
     },
     "metadata": {
      "needs_background": "light"
     },
     "output_type": "display_data"
    }
   ],
   "source": [
    "x = np.arange(0,12)\n",
    "y= dist_cars.pmf(x)\n",
    "\n",
    "plt.bar(x,y)\n"
   ]
  },
  {
   "cell_type": "code",
   "execution_count": 39,
   "id": "993d6604",
   "metadata": {},
   "outputs": [],
   "source": [
    "#for experimental, use dist.rvs(size) to generate df of random values\n",
    "exp_cars = dist_cars.rvs(nt)"
   ]
  },
  {
   "cell_type": "code",
   "execution_count": 40,
   "id": "5bdf0866",
   "metadata": {},
   "outputs": [
    {
     "name": "stdout",
     "output_type": "stream",
     "text": [
      "The chance of no cars at noon is:\n",
      "13.2% (exp)\n",
      "13.5% (theor)\n"
     ]
    }
   ],
   "source": [
    "#1a) prob no cars at noon?\n",
    "min(exp_cars) #validate zero\n",
    "#pull out array when equal to zero, get length - make as percent\n",
    "expCh = 100*len(exp_cars[exp_cars == 0])/nt\n",
    "\n",
    "print(f'The chance of no cars at noon is:')\n",
    "print(f'{round(expCh,1)}% (exp)\\n{round(dist_cars.pmf(0)*100,1)}% (theor)')"
   ]
  },
  {
   "cell_type": "code",
   "execution_count": 31,
   "id": "cd8db6eb",
   "metadata": {},
   "outputs": [
    {
     "name": "stdout",
     "output_type": "stream",
     "text": [
      "The chance of having 3 or more cars at noon is:\n",
      "32.0% (exp)\n",
      "32.3% (theor)\n"
     ]
    }
   ],
   "source": [
    "#1b) prob of 3+ cars?\n",
    "expCh = 100*len(exp_cars[exp_cars >=3])/nt\n",
    "print(f'The chance of having 3 or more cars at noon is:')\n",
    "print(f'{round(expCh,1)}% (exp)')\n",
    "print(f'{round(dist_cars.sf(2)*100,1)}% (theor)')"
   ]
  },
  {
   "cell_type": "code",
   "execution_count": 33,
   "id": "3344dd47",
   "metadata": {},
   "outputs": [
    {
     "name": "stdout",
     "output_type": "stream",
     "text": [
      "The chance of having at least 1 car at noon is:\n",
      "86.8% (exp)\n",
      "86.5% (theor)\n"
     ]
    }
   ],
   "source": [
    "#1c) prob of getting 1+ car?\n",
    "expCh = 100*len(exp_cars[exp_cars >=1])/nt\n",
    "print(f'The chance of having at least 1 car at noon is:')\n",
    "print(f'{round(expCh,1)}% (exp)')\n",
    "print(f'{round(dist_cars.sf(0)*100,1)}% (theor)')"
   ]
  },
  {
   "cell_type": "code",
   "execution_count": 35,
   "id": "8afb5244",
   "metadata": {},
   "outputs": [],
   "source": [
    "#2) normal dist of grades\n",
    "mn = 3\n",
    "stdv = .3\n",
    "grades = stats.norm(mn,stdv)\n",
    "\n",
    "exp_grades = pd.DataFrame(grades.rvs(nt)) #this is getting a hypothetic 10,000 student grades\n",
    "#could also do 10,000 hypothetical classes of a given size.  but we don't know class size, so will just use distro\n"
   ]
  },
  {
   "cell_type": "code",
   "execution_count": 45,
   "id": "48e92117",
   "metadata": {},
   "outputs": [
    {
     "data": {
      "text/plain": [
       "3.4934560880854417"
      ]
     },
     "execution_count": 45,
     "metadata": {},
     "output_type": "execute_result"
    }
   ],
   "source": [
    "#2a) gpa to be in top 5%  \n",
    "#FINISH THE EXPERIMENTAL\n",
    "# exp_grades.sort_values\n",
    "grades.isf(.05)"
   ]
  },
  {
   "cell_type": "code",
   "execution_count": null,
   "id": "e183e837",
   "metadata": {},
   "outputs": [],
   "source": []
  },
  {
   "cell_type": "code",
   "execution_count": 43,
   "id": "207e44b0",
   "metadata": {},
   "outputs": [
    {
     "data": {
      "text/plain": [
       "2.689069983151863"
      ]
     },
     "execution_count": 43,
     "metadata": {},
     "output_type": "execute_result"
    }
   ],
   "source": [
    "#2b) GPA that is bottom 15%\n",
    "grades.ppf(.15)"
   ]
  },
  {
   "cell_type": "code",
   "execution_count": 52,
   "id": "25314d8c",
   "metadata": {},
   "outputs": [
    {
     "name": "stdout",
     "output_type": "stream",
     "text": [
      "The GPA range for this scholarship is between 2.7475136299281258 and 2.842679846187588.\n",
      "A student with a GPA of 2.8 would get the scholarship\n"
     ]
    }
   ],
   "source": [
    "#2c) third decile from the bottom - so 20-30%\n",
    "minG = grades.ppf(.2)\n",
    "maxG = grades.ppf(.3)\n",
    "gpa = 2.8\n",
    "if minG < gpa < maxG:\n",
    "    words = \"would\"\n",
    "else: words = \"would not\"\n",
    "        \n",
    "print(f'The GPA range for this scholarship is between {minG} and {maxG}.')\n",
    "print(f'A student with a GPA of {gpa} {words} get the scholarship')"
   ]
  },
  {
   "cell_type": "code",
   "execution_count": 53,
   "id": "cae45397",
   "metadata": {},
   "outputs": [
    {
     "data": {
      "text/plain": [
       "0.047790352272814696"
      ]
     },
     "execution_count": 53,
     "metadata": {},
     "output_type": "execute_result"
    }
   ],
   "source": [
    "#2d) 3.5 percentile?\n",
    "1-grades.cdf(3.5) #top percentile - aka top 5%"
   ]
  },
  {
   "cell_type": "code",
   "execution_count": null,
   "id": "36af153c",
   "metadata": {},
   "outputs": [],
   "source": [
    "#3)\n",
    "#as a binomial\n",
    "stats.binom(4326,.02).sf(96)"
   ]
  },
  {
   "cell_type": "code",
   "execution_count": 54,
   "id": "f2cf1b3b",
   "metadata": {},
   "outputs": [
    {
     "data": {
      "text/plain": [
       "0.019801326693244747"
      ]
     },
     "execution_count": 54,
     "metadata": {},
     "output_type": "execute_result"
    }
   ],
   "source": [
    "#3 as a poisson - THIS CELL IS WRONG\n",
    "mn=.02\n",
    "val = 97/4326\n",
    "dist = stats.poisson(mn)\n",
    "\n",
    "1-dist.cdf(val)\n",
    "\n",
    "#rethink as poisson - THIS CELL IS WRONG \n",
    "# dist = stats.poisson(mn*10_000)\n",
    "# dist.sf(10_000*96/4326)"
   ]
  },
  {
   "cell_type": "code",
   "execution_count": 57,
   "id": "248ed33e",
   "metadata": {},
   "outputs": [
    {
     "data": {
      "text/plain": [
       "0.45284335760923855"
      ]
     },
     "execution_count": 57,
     "metadata": {},
     "output_type": "execute_result"
    }
   ],
   "source": [
    "#4) 100 questions. answers are probability rounded to the hundreth's place\n",
    "#random answer chance of being right = .01\n",
    "stats.binom(60,.01).sf(0)\n",
    "#of 60 attempts, and a .01 chance of being right the chance we get at least 1 right is"
   ]
  },
  {
   "cell_type": "code",
   "execution_count": 58,
   "id": "da0d2256",
   "metadata": {},
   "outputs": [
    {
     "data": {
      "text/plain": [
       "0.8362274861228873"
      ]
     },
     "execution_count": 58,
     "metadata": {},
     "output_type": "execute_result"
    }
   ],
   "source": [
    "#5) \n",
    "ch=.03\n",
    "#90% of 3 cohorts of 22 students\n",
    "nvisits = .9*3*22\n",
    "\n",
    "#chance any one student cleans up? \n",
    "stats.binom(nvisits,ch).sf(0)\n"
   ]
  },
  {
   "cell_type": "code",
   "execution_count": 60,
   "id": "5e723be1",
   "metadata": {},
   "outputs": [
    {
     "data": {
      "text/plain": [
       "0.026821436301629063"
      ]
     },
     "execution_count": 60,
     "metadata": {},
     "output_type": "execute_result"
    }
   ],
   "source": [
    "#chance they don't clean up for two days\n",
    "#chance a given day is cleaned (same as above)\n",
    "clean = stats.binom(nvisits,ch).sf(0)\n",
    "\n",
    "#now, do they not do it twice in a row?\n",
    "stats.binom(2,clean).pmf(0)"
   ]
  },
  {
   "cell_type": "code",
   "execution_count": 65,
   "id": "7137a815",
   "metadata": {},
   "outputs": [
    {
     "data": {
      "text/plain": [
       "0.026821436301628983"
      ]
     },
     "execution_count": 65,
     "metadata": {},
     "output_type": "execute_result"
    }
   ],
   "source": [
    "#ALSO RIGHT - concept would apply to less situations (see next)\n",
    "stats.binom(nvisits*2,ch).pmf(0)"
   ]
  },
  {
   "cell_type": "code",
   "execution_count": 66,
   "id": "3e795cd6",
   "metadata": {},
   "outputs": [
    {
     "data": {
      "text/plain": [
       "0.6992764085474037"
      ]
     },
     "execution_count": 66,
     "metadata": {},
     "output_type": "execute_result"
    }
   ],
   "source": [
    "#Different question - chance of being cleaned at least once on both days\n",
    "#RIGHT \n",
    "stats.binom(2,clean).sf(1)"
   ]
  },
  {
   "cell_type": "code",
   "execution_count": 62,
   "id": "66ffdbbc",
   "metadata": {},
   "outputs": [
    {
     "data": {
      "text/plain": [
       "0.8746305235138288"
      ]
     },
     "execution_count": 62,
     "metadata": {},
     "output_type": "execute_result"
    }
   ],
   "source": [
    "#Different question - chance of being cleaned at least once on both days\n",
    "#WRONG - actually gives us the chance of 2 cleans over the course of 2 days \n",
    "#(doesn't make sure the cleans are on different days)\n",
    "stats.binom(nvisits*2,ch).sf(1)\n",
    "#notice how this percentage is higher than the chance of it \n",
    "# getting cleaned on any given day"
   ]
  },
  {
   "cell_type": "code",
   "execution_count": 67,
   "id": "36883bcb",
   "metadata": {},
   "outputs": [
    {
     "data": {
      "text/plain": [
       "0.00011781621791055127"
      ]
     },
     "execution_count": 67,
     "metadata": {},
     "output_type": "execute_result"
    }
   ],
   "source": [
    "#5 con't) how likely break area doesn't get cleaned for a week?\n",
    "stats.binom(5,clean).pmf(0)"
   ]
  },
  {
   "cell_type": "code",
   "execution_count": 68,
   "id": "5e5e0a64",
   "metadata": {},
   "outputs": [
    {
     "data": {
      "text/plain": [
       "0.00011781621791051577"
      ]
     },
     "execution_count": 68,
     "metadata": {},
     "output_type": "execute_result"
    }
   ],
   "source": [
    "1-stats.binom(5,clean).sf(0)"
   ]
  },
  {
   "cell_type": "code",
   "execution_count": 78,
   "id": "c739ddff",
   "metadata": {},
   "outputs": [
    {
     "data": {
      "text/plain": [
       "0.6914624612740131"
      ]
     },
     "execution_count": 78,
     "metadata": {},
     "output_type": "execute_result"
    }
   ],
   "source": [
    "#6) Chance of having time to eat lunch?\n",
    "mn = 15\n",
    "stdv = 3\n",
    "t_ppl = 2  #minutes for each other person to order\n",
    "t_food = 12 #minutes to get food after ordering + time to order\n",
    "t_eat = 15\n",
    "\n",
    "#distro of ppl in line\n",
    "line = stats.norm(mn,stdv)\n",
    "#BETTER - want distro of line in minutes before I can order\n",
    "wait = stats.norm(mn*2,stdv*2) #distro of minutes prior to ordering\n",
    "\n",
    "#success if wait less than 60 minutes minus 15 to 3at and 12 for your order and food\n",
    "#aka the max wait time that allows me at least 15 minutes to eat\n",
    "maxWait = 60-t_eat-t_food\n",
    "\n",
    "#so what is the probability we are under the maxWait?\n",
    "wait.cdf(maxWait)"
   ]
  },
  {
   "cell_type": "code",
   "execution_count": 95,
   "id": "f2eff49a",
   "metadata": {},
   "outputs": [],
   "source": [
    "# #7) \n",
    "# #get data\n",
    "# # relpath = \"..numpy-pandas-visualization-exercises\"\n",
    "# # from relpath import env\n",
    "# from ..numpy-pandas-visualization-exercises/ import env\n",
    "\n",
    "# sal = read_sql(\"SELECT * FROM salaries\",get_db_url('employees'))"
   ]
  },
  {
   "cell_type": "code",
   "execution_count": null,
   "id": "6cbe9d0f",
   "metadata": {},
   "outputs": [],
   "source": []
  }
 ],
 "metadata": {
  "kernelspec": {
   "display_name": "Python 3 (ipykernel)",
   "language": "python",
   "name": "python3"
  },
  "language_info": {
   "codemirror_mode": {
    "name": "ipython",
    "version": 3
   },
   "file_extension": ".py",
   "mimetype": "text/x-python",
   "name": "python",
   "nbconvert_exporter": "python",
   "pygments_lexer": "ipython3",
   "version": "3.9.7"
  }
 },
 "nbformat": 4,
 "nbformat_minor": 5
}
