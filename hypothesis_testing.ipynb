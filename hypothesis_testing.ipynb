{
 "cells": [
  {
   "cell_type": "markdown",
   "id": "d1f990ac",
   "metadata": {},
   "source": [
    "## Overview Exercise\n",
    "\n",
    "|null hypotheseis | alt Hypothesis | true pos | true neg | type I | type II|\n",
    "|:-------------- | :------------ | :----: | :----: | :----: | :----:|\n",
    "|Avg latency is the same for the new service providers | Avg altency has changed on the new service provider | Avg latency b/w providers is different | There is no statistically significant difference between provider latencies | We determine there is a difference in avg latency b/w providers, but there isn't | We determine there is not a difference in avg latency b/w providers, but there is |\n",
    "|Online sales stayed the same after the website redesign |Online sales increased or decreased after the website redesign|There was a statistically significant change in sales after the website redesign|There was not a statistically significant change in sales after the website redesign|We determine there was a change in sales after the redesign, but there wasn't a statistically significant one|We determine there was not a change in sales after the redesign, but there was a statistically significant one|\n",
    "|Sales have stayed the same after the TV ad|Sales have changed after the TV ad|There is no statistically significant change in sales after the TV ad|There is a statistically significant change in sales after the TV ad|We determine there is a change in sales after the TV ad, but there isn't | We determine there is not a change in sales after the TV ad, but there is.|"
   ]
  },
  {
   "cell_type": "code",
   "execution_count": 1,
   "id": "64084789",
   "metadata": {},
   "outputs": [],
   "source": [
    "import numpy as np\n",
    "import pandas as pd\n",
    "import seaborn as sns\n",
    "from scipy import stats\n",
    "from pydataset import data\n",
    "import matplotlib.pyplot as plt"
   ]
  },
  {
   "cell_type": "code",
   "execution_count": 36,
   "id": "b5abedc5",
   "metadata": {},
   "outputs": [],
   "source": [
    "def stats_result(p,α,null_h):\n",
    "    print(f'The null hypothesis was: {null_h}\\n')\n",
    "    \n",
    "    if p < α: print(f\"We reject the null hypothesis, p = {p}\")\n",
    "    else: print(f\"We accept the null hypothesis, p = {p}\")\n",
    "    return None"
   ]
  },
  {
   "cell_type": "markdown",
   "id": "e42ac0c0",
   "metadata": {},
   "source": [
    "## T-Test Exercises"
   ]
  },
  {
   "cell_type": "code",
   "execution_count": 25,
   "id": "29c48c39",
   "metadata": {},
   "outputs": [],
   "source": [
    "#1) Ace Realty\n",
    "#Given info\n",
    "o1_n = 40\n",
    "o1_mn = 90\n",
    "o1_stdv = 15\n",
    "\n",
    "o2_n = 50\n",
    "o2_mn = 100\n",
    "o2_stdv = 20\n",
    "\n",
    "α = .05\n",
    "\n",
    "null_h = \"The two offices take the same time to sell homes\""
   ]
  },
  {
   "cell_type": "code",
   "execution_count": 4,
   "id": "210d75a9",
   "metadata": {},
   "outputs": [],
   "source": [
    "#std dev don't seem that close to me (25-33% diff)\n",
    "#What does levine think?\n",
    "#DO THIS LATER"
   ]
  },
  {
   "cell_type": "code",
   "execution_count": 26,
   "id": "9d97ed28",
   "metadata": {},
   "outputs": [],
   "source": [
    "#two sample, looking at difference (two tails)\n",
    "#independed t-test\n",
    "t, p = stats.ttest_ind_from_stats(o1_mn,o1_stdv,o1_n,o2_mn,o2_stdv,o2_n,equal_var=False)"
   ]
  },
  {
   "cell_type": "code",
   "execution_count": 27,
   "id": "1dbb1d10",
   "metadata": {},
   "outputs": [
    {
     "name": "stdout",
     "output_type": "stream",
     "text": [
      "The null hypothesis was: The two offices take the same time to sell homes\n",
      "\n",
      "We reject the null hypothesis, p = 0.00811206270346016\n"
     ]
    }
   ],
   "source": [
    "stats_result(p,α,null_h)\n"
   ]
  },
  {
   "cell_type": "code",
   "execution_count": 31,
   "id": "23916b34",
   "metadata": {},
   "outputs": [
    {
     "data": {
      "text/plain": [
       "[<matplotlib.lines.Line2D at 0x7fa4b8b4e850>,\n",
       " <matplotlib.lines.Line2D at 0x7fa4b8b4e7f0>]"
      ]
     },
     "execution_count": 31,
     "metadata": {},
     "output_type": "execute_result"
    },
    {
     "data": {
      "image/png": "[encoded data removed]",
      "text/plain": [
       "<Figure size 432x288 with 1 Axes>"
      ]
     },
     "metadata": {
      "needs_background": "light"
     },
     "output_type": "display_data"
    }
   ],
   "source": [
    "#let's graph for 'fun'\n",
    "x = np.arange(50,150)\n",
    "y1 = stats.norm(o1_mn,o1_stdv).pdf(x) \n",
    "y2 = stats.norm(o2_mn,o2_stdv).pdf(x)\n",
    "\n",
    "plt.plot(x,y1,x,y2)"
   ]
  },
  {
   "cell_type": "code",
   "execution_count": 7,
   "id": "13fb0e70",
   "metadata": {},
   "outputs": [
    {
     "name": "stdout",
     "output_type": "stream",
     "text": [
      "<class 'pandas.core.frame.DataFrame'>\n",
      "Int64Index: 234 entries, 1 to 234\n",
      "Data columns (total 11 columns):\n",
      " #   Column        Non-Null Count  Dtype  \n",
      "---  ------        --------------  -----  \n",
      " 0   manufacturer  234 non-null    object \n",
      " 1   model         234 non-null    object \n",
      " 2   displ         234 non-null    float64\n",
      " 3   year          234 non-null    int64  \n",
      " 4   cyl           234 non-null    int64  \n",
      " 5   trans         234 non-null    object \n",
      " 6   drv           234 non-null    object \n",
      " 7   cty           234 non-null    int64  \n",
      " 8   hwy           234 non-null    int64  \n",
      " 9   fl            234 non-null    object \n",
      " 10  class         234 non-null    object \n",
      "dtypes: float64(1), int64(4), object(6)\n",
      "memory usage: 21.9+ KB\n"
     ]
    }
   ],
   "source": [
    "#2) MPG dataset\n",
    "df = data('mpg')\n",
    "df.info()"
   ]
  },
  {
   "cell_type": "code",
   "execution_count": 8,
   "id": "59952dbd",
   "metadata": {},
   "outputs": [
    {
     "data": {
      "text/plain": [
       "<AxesSubplot:xlabel='year', ylabel='Count'>"
      ]
     },
     "execution_count": 8,
     "metadata": {},
     "output_type": "execute_result"
    },
    {
     "data": {
      "image/png": "[encoded data removed]",
      "text/plain": [
       "<Figure size 432x288 with 1 Axes>"
      ]
     },
     "metadata": {
      "needs_background": "light"
     },
     "output_type": "display_data"
    }
   ],
   "source": [
    "sns.histplot(data=df,x='year')"
   ]
  },
  {
   "cell_type": "code",
   "execution_count": 41,
   "id": "f08220c4",
   "metadata": {},
   "outputs": [],
   "source": [
    "#2a) is there a difference in fuel-efficiency from cars in 2008 than 1999\n",
    "null_h = \"There is no difference in fuel-efficiency from cars in 2008 and 1999\"\n",
    "#set up new 'average mpg column' - did this b/c i just assume that's what they want.\n",
    "#Used EPA formula for calculating\n",
    "df['avg_mpg'] = (df.cty*.55)+(df.hwy*.45)\n",
    "#pull out that column into two datasets - one for each year\n",
    "mpg99 = df.avg_mpg[df.year == 1999]\n",
    "mpg08 = df.avg_mpg[df.year == 2008]\n",
    "\n",
    "# there are 2, independent samples, so i want ttest_ind"
   ]
  },
  {
   "cell_type": "code",
   "execution_count": 42,
   "id": "2e2b4c89",
   "metadata": {},
   "outputs": [
    {
     "data": {
      "text/plain": [
       "(10.0, 40.0)"
      ]
     },
     "execution_count": 42,
     "metadata": {},
     "output_type": "execute_result"
    },
    {
     "data": {
      "image/png": "[encoded data removed]",
      "text/plain": [
       "<Figure size 432x288 with 2 Axes>"
      ]
     },
     "metadata": {
      "needs_background": "light"
     },
     "output_type": "display_data"
    }
   ],
   "source": [
    "plt.figure()\n",
    "plt.subplot(211)\n",
    "plt.hist(mpg99)\n",
    "plt.xlim(10,40)\n",
    "plt.subplot(212)\n",
    "plt.hist(mpg08)\n",
    "plt.xlim(10,40)\n"
   ]
  },
  {
   "cell_type": "code",
   "execution_count": 45,
   "id": "eb29a34a",
   "metadata": {},
   "outputs": [
    {
     "name": "stdout",
     "output_type": "stream",
     "text": [
      "117, 117\n"
     ]
    }
   ],
   "source": [
    "#not that normal, but over 100 values each, so not as worried about normality\n",
    "print(f'{len(mpg99)}, {len(mpg08)}')"
   ]
  },
  {
   "cell_type": "code",
   "execution_count": 38,
   "id": "14d80b86",
   "metadata": {},
   "outputs": [
    {
     "data": {
      "text/plain": [
       "0.8514113361784937"
      ]
     },
     "execution_count": 38,
     "metadata": {},
     "output_type": "execute_result"
    }
   ],
   "source": [
    "#check p of compared variance\n",
    "stats.levene(mpg99,mpg08)[1]\n",
    "#if p(levene) is > alpha, then we have equal variance"
   ]
  },
  {
   "cell_type": "code",
   "execution_count": 63,
   "id": "71d9ce0d",
   "metadata": {},
   "outputs": [
    {
     "name": "stdout",
     "output_type": "stream",
     "text": [
      "The null hypothesis was: Manual cars get the same or worse city mpg\n",
      "\n",
      "We accept the null hypothesis, p = 0.8030694941407983\n"
     ]
    }
   ],
   "source": [
    "t, p = stats.ttest_ind(mpg99,mpg08,equal_var=True)\n",
    "stats_result(p,α,null_h)"
   ]
  },
  {
   "cell_type": "code",
   "execution_count": 50,
   "id": "6c8925b3",
   "metadata": {},
   "outputs": [
    {
     "data": {
      "text/plain": [
       "(array([ 9., 12., 14.,  6.,  2.,  2.,  1.,  0.,  0.,  1.]),\n",
       " array([19.15, 21.03, 22.91, 24.79, 26.67, 28.55, 30.43, 32.31, 34.19,\n",
       "        36.07, 37.95]),\n",
       " <BarContainer object of 10 artists>)"
      ]
     },
     "execution_count": 50,
     "metadata": {},
     "output_type": "execute_result"
    },
    {
     "data": {
      "image/png": "[encoded data removed]",
      "text/plain": [
       "<Figure size 432x288 with 1 Axes>"
      ]
     },
     "metadata": {
      "needs_background": "light"
     },
     "output_type": "display_data"
    }
   ],
   "source": [
    "#2b) are compact cars more fuel-efficient than the average car. \n",
    "null_h = 'compact cars have the same combined mpg fuel-efficiency as the average car'\n",
    "mpg_com = df.avg_mpg[df['class'] == 'compact']\n",
    "\n",
    "plt.hist(mpg_com) #normalish, 50ish points"
   ]
  },
  {
   "cell_type": "code",
   "execution_count": 64,
   "id": "7cd4b529",
   "metadata": {},
   "outputs": [
    {
     "name": "stdout",
     "output_type": "stream",
     "text": [
      "p(levene) > α: False\n"
     ]
    }
   ],
   "source": [
    "\n",
    "#diff sample sizes. let's check variance\n",
    "tl, pl = stats.levene(mpg_com,df.cty)\n",
    "print(f'p(levene) > α: {pl > α}')"
   ]
  },
  {
   "cell_type": "code",
   "execution_count": 65,
   "id": "0fc62f02",
   "metadata": {},
   "outputs": [
    {
     "name": "stdout",
     "output_type": "stream",
     "text": [
      "The null hypothesis was: Manual cars get the same or worse city mpg\n",
      "\n",
      "We reject the null hypothesis, p = 3.3910472293486603e-09\n"
     ]
    }
   ],
   "source": [
    "#WRONG WAY\n",
    "t, p = stats.ttest_ind(df.avg_mpg,mpg_com,equal_var=False)\n",
    "stats_result(p,α,null_h)"
   ]
  },
  {
   "cell_type": "code",
   "execution_count": 68,
   "id": "23d1de7e",
   "metadata": {},
   "outputs": [
    {
     "name": "stdout",
     "output_type": "stream",
     "text": [
      "The null hypothesis was: Manual cars get the same or worse city mpg\n",
      "\n",
      "We reject the null hypothesis, p = 6.133395124728956e-10\n"
     ]
    }
   ],
   "source": [
    "#2b - ALT - BETTER) Should be treating this as two separate samples \n",
    "#Probably should use one sample ttest\n",
    "\n",
    "t, p = stats.ttest_1samp(mpg_com,df.avg_mpg.mean())\n",
    "stats_result(p,α,null_h)\n",
    "\n"
   ]
  },
  {
   "cell_type": "code",
   "execution_count": 69,
   "id": "438ecd22",
   "metadata": {},
   "outputs": [
    {
     "name": "stdout",
     "output_type": "stream",
     "text": [
      "The null hypothesis was: compact cars have the same or less city mpg as the average car\n",
      "\n",
      "We reject the null hypothesis, p = 3.066697562364478e-10\n"
     ]
    }
   ],
   "source": [
    "#2b - ALT - BEST). Should do one tail\n",
    "#update null\n",
    "null_h = 'compact cars have the same or less city mpg as the average car'\n",
    "\n",
    "t, p = stats.ttest_1samp(mpg_com,df.avg_mpg.mean())\n",
    "#get real p\n",
    "p = p/2\n",
    "stats_result(p,α,null_h)"
   ]
  },
  {
   "cell_type": "code",
   "execution_count": null,
   "id": "cfbde3ee",
   "metadata": {},
   "outputs": [],
   "source": []
  },
  {
   "cell_type": "code",
   "execution_count": 70,
   "id": "56eae19f",
   "metadata": {},
   "outputs": [
    {
     "data": {
      "text/plain": [
       "(array([ 1., 10.,  8., 22., 23.,  6.,  4.,  1.,  0.,  2.]),\n",
       " array([10.35, 13.22, 16.09, 18.96, 21.83, 24.7 , 27.57, 30.44, 33.31,\n",
       "        36.18, 39.05]),\n",
       " <BarContainer object of 10 artists>)"
      ]
     },
     "execution_count": 70,
     "metadata": {},
     "output_type": "execute_result"
    },
    {
     "data": {
      "image/png": "[encoded data removed]",
      "text/plain": [
       "<Figure size 432x288 with 2 Axes>"
      ]
     },
     "metadata": {
      "needs_background": "light"
     },
     "output_type": "display_data"
    }
   ],
   "source": [
    "#2c) Do manual cars get better gas mileage than automatic cars\n",
    "null_h = \"Manual cars get the same or worse city mpg\"\n",
    "\n",
    "#break data into our two samples\n",
    "mpgA = df.avg_mpg[df.trans.str.startswith('a')]\n",
    "mpgM = df.avg_mpg[df.trans.str.startswith('m')]\n",
    "\n",
    "plt.figure()\n",
    "plt.subplot(211)\n",
    "plt.hist(mpgA)\n",
    "plt.subplot(212)\n",
    "plt.hist(mpgM)"
   ]
  },
  {
   "cell_type": "code",
   "execution_count": 71,
   "id": "b1e72444",
   "metadata": {},
   "outputs": [
    {
     "name": "stdout",
     "output_type": "stream",
     "text": [
      "The null hypothesis was: Manual cars get the same or worse city mpg\n",
      "\n",
      "We reject the null hypothesis, p = 3.247026140700205e-06\n"
     ]
    }
   ],
   "source": [
    "#normalish\n",
    "#see if variance simliar\n",
    "tl, pl = stats.levene(mpgA,mpgM)\n",
    "\n",
    "t, p = stats.ttest_ind(mpgA,mpgM,equal_var = (pl > α))\n",
    "#doing one tail, so immediately update p\n",
    "p=p/2\n",
    "stats_result(p,α,null_h)"
   ]
  }
 ],
 "metadata": {
  "kernelspec": {
   "display_name": "Python 3 (ipykernel)",
   "language": "python",
   "name": "python3"
  },
  "language_info": {
   "codemirror_mode": {
    "name": "ipython",
    "version": 3
   },
   "file_extension": ".py",
   "mimetype": "text/x-python",
   "name": "python",
   "nbconvert_exporter": "python",
   "pygments_lexer": "ipython3",
   "version": "3.9.7"
  }
 },
 "nbformat": 4,
 "nbformat_minor": 5
}
