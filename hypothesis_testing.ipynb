{
 "cells": [
  {
   "cell_type": "markdown",
   "id": "4bc0b4f2",
   "metadata": {},
   "source": [
    "### Overview Exercise\n",
    "\n",
    "|null hypotheseis | alt Hypothesis | true pos | true neg | type I | type II|\n",
    "|:-------------- | :------------ | :----: | :----: | :----: | :----:|\n",
    "|Avg latency is the same b/w service providers | Avg altency is greater on the new service provider | Avg latency b/w providers is different | There is no statistically significant difference between provider latencies | We determine there is a difference in avg latency b/w providers, but there isn't | We determine there is not a difference in avg latency b/w providers, but there is |\n",
    "|There was no change in online sales after the website redesign |Sales increased after the website redesign|There was a statistically significant change in sales after the website redesign|There was not a statistically significant change in sales after the website redesign|We determine there was a change in sales after the redesign, but there wasn't a statistically significant one|We determine there was not a change in salse after the redesign, but there was a statistically significant one|\n",
    "|Sales have not changed after the TV ad|Sales have improved after the TV ad|There is no statistically significant change in sales after the TV ad|There is a statistically significant change in sales after the TV ad|We determine there is a change in sales after the TV ad, but there isn't | We determine there is not a change in sales after the TV ad, but there is.|"
   ]
  },
  {
   "cell_type": "code",
   "execution_count": null,
   "id": "237bd24a",
   "metadata": {},
   "outputs": [],
   "source": []
  },
  {
   "cell_type": "code",
   "execution_count": null,
   "id": "bf84f898",
   "metadata": {},
   "outputs": [],
   "source": []
  }
 ],
 "metadata": {
  "kernelspec": {
   "display_name": "Python 3 (ipykernel)",
   "language": "python",
   "name": "python3"
  },
  "language_info": {
   "codemirror_mode": {
    "name": "ipython",
    "version": 3
   },
   "file_extension": ".py",
   "mimetype": "text/x-python",
   "name": "python",
   "nbconvert_exporter": "python",
   "pygments_lexer": "ipython3",
   "version": "3.9.7"
  }
 },
 "nbformat": 4,
 "nbformat_minor": 5
}
